{
 "cells": [
  {
   "cell_type": "code",
   "execution_count": null,
   "id": "94a1e38b-df32-4a67-8db5-e0c2e28f12a8",
   "metadata": {},
   "outputs": [],
   "source": [
    "import pandas as pd\n",
    "import matplotlib.pyplot as plt\n",
    "import seaborn as sns\n",
    "\n",
    "# Loading datasets\n",
    "private_ev_charging = pd.read_csv(\"private_ev_charging.csv\")\n",
    "public_ev_charging = pd.read_csv(\"public_ev_charging.csv\")\n",
    "ev_sales = pd.read_csv(\"ev_sales.csv\")\n",
    "\n",
    "# outer join to keep only the rows with complete information\n",
    "df_combined = private_ev_charging.merge(public_ev_charging, on='year', how='outer', indicator=True)\n",
    "df_temp = df_combined[df_combined['_merge'] == 'both']\n",
    "\n",
    "# Drop the _merge column\n",
    "df_temp = df_temp.drop(columns=['_merge'])\n",
    "\n",
    "# total sales grouping by each year\n",
    "ev_total_sales = ev_sales.groupby('year')['sales'].sum().reset_index()\n",
    "\n",
    "# Inspect data\n",
    "print(ev_total_sales)\n",
    "ev_sales_2018 = 361315\n",
    "\n",
    "# Left-join with sales\n",
    "df_complete = df_temp.merge(ev_total_sales, how='left', on='year')\n",
    "\n",
    "# Drop null values\n",
    "df_complete = df_complete.dropna(subset=\"sales\")\n",
    "\n",
    "# figure and axis object\n",
    "fig, ax = plt.subplots()\n",
    "\n",
    "# Plot each line\n",
    "sns.lineplot(data=df_complete, x='year', y='private_ports', label='Private Ports')\n",
    "sns.lineplot(data=df_complete, x='year', y='public_ports', label='Public Ports')\n",
    "sns.lineplot(data=df_complete, x='year', y='sales', label='Total Sales', linestyle=':')\n",
    "\n",
    "# Adding titles and labels\n",
    "ax.set_title('EV Ports and Sales Over Time')\n",
    "ax.set(xlabel='Year', ylabel='Count')\n",
    "\n",
    "# Show the legend\n",
    "ax.legend(loc='upper left')\n",
    "\n",
    "# Show\n",
    "plt.show()\n",
    "\n",
    "# Did vehicle sales and number of private and public ports show the same trend?\n",
    "trend = \"same\""
   ]
  }
 ],
 "metadata": {
  "kernelspec": {
   "display_name": "Python 3 (ipykernel)",
   "language": "python",
   "name": "python3"
  },
  "language_info": {
   "codemirror_mode": {
    "name": "ipython",
    "version": 3
   },
   "file_extension": ".py",
   "mimetype": "text/x-python",
   "name": "python",
   "nbconvert_exporter": "python",
   "pygments_lexer": "ipython3",
   "version": "3.12.5"
  }
 },
 "nbformat": 4,
 "nbformat_minor": 5
}
